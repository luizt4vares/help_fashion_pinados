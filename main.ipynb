{
 "cells": [
  {
   "cell_type": "code",
   "execution_count": null,
   "metadata": {},
   "outputs": [],
   "source": [
    "import pandas as pd\n",
    "from data.consolidar import *\n",
    "import gspread\n",
    "from datetime import datetime, timedelta\n",
    "from settings import get_settings"
   ]
  },
  {
   "cell_type": "markdown",
   "metadata": {},
   "source": [
    "### Gerando consolidados de itens pinados"
   ]
  },
  {
   "cell_type": "code",
   "execution_count": null,
   "metadata": {},
   "outputs": [],
   "source": [
    "inicio_periodo=\"1.07\"\n",
    "fim_periodo=\"12.07\"\n",
    "\n",
    "\n",
    "def get_df_itens(inicio_periodo,\n",
    "                 fim_periodo,\n",
    "                 key='1vGL01qU0IMKnHpT9swxuflPYSQ5iGKcN-2k7o_fw3rA',\n",
    "                 path_client_secrets=\"../help_fashion_pinados/data/base/client_secrets.json\",\n",
    "                 path_xlsx_file = \"../help_fashion_pinados/data/base/Cópia de Always  ON Fashion_ PINS FS.xlsx\"\n",
    "                 ):\n",
    "    \n",
    "    # formato de data para o datetime\n",
    "    formato_data = \"%d.%m\"\n",
    "    # iniciando gspread\n",
    "    gs=gspread.oauth(path_client_secrets)\n",
    "    # puxando abas do sheets e salvando nomes em uma lista \n",
    "    abas = gs.open_by_key(key).worksheets()\n",
    "    abas_name = [x.title for x in abas]\n",
    "    # df a ser retornado no final\n",
    "    df_return = pd.DataFrame(columns=['item_id','horário','dia'])\n",
    "    # formatando datas de inicio de fim\n",
    "    inicio_periodo = datetime.strptime(inicio_periodo,formato_data).date()\n",
    "    fim_periodo = datetime.strptime(fim_periodo,formato_data).date()\n",
    "\n",
    "    # rodando abas na lista de abas do sheets\n",
    "    for nome in abas_name:\n",
    "        # checando se ela esta no periodo indicado na função\n",
    "        data_aba = datetime.strptime(nome,formato_data).date()\n",
    "        if data_aba>=inicio_periodo and data_aba<=fim_periodo:\n",
    "            # lendo aba no xlsx \n",
    "            df=pd.read_excel(path_xlsx_file,sheet_name=nome)\n",
    "            # filtrando linhas vazias\n",
    "            df_filt = df[['item_id','horário']].loc[df['item_id']!=\"\"]\n",
    "            # formatando horário\n",
    "            df_filt['horário']=df_filt['horário'].apply(lambda x: x.replace(\"h\",\"\"))\n",
    "            # gerando coluna com nome da aba\n",
    "            df_filt['dia']=nome\n",
    "            # tirando valores NaN\n",
    "            df_filt=df_filt.dropna()\n",
    "            # concatenando no df final\n",
    "            df_return=pd.concat([df_return,df_filt])\n",
    "    # resetando index\n",
    "    df_return.reset_index(inplace=True,drop=True)\n",
    "    # tirando valores ciêntificos\n",
    "    df_return['item_id']=df_return['item_id'].apply(int)\n",
    "    return df_return\n",
    "\n",
    "df = get_df_itens(inicio_periodo,fim_periodo)\n",
    "\n",
    "# display(df)"
   ]
  },
  {
   "cell_type": "code",
   "execution_count": null,
   "metadata": {},
   "outputs": [],
   "source": [
    "query='''\n",
    "WITH \n",
    "-- criando table para consilidar infos das abas do sheets\n",
    "sheets_pinado_table as(\n",
    "        Select * from ( \n",
    "            \n",
    "                VALUES\n",
    "                {}\n",
    "\n",
    "        ) as t (item_id, batch, grass_date,comparative_grass_date , key )\n",
    "\n",
    ")\n",
    "\n",
    "SELECT t2.grass_date                                dia_pinado\n",
    "        -- , date(t1.fs_st)\n",
    "        ,t1.shop_id \n",
    "        ,t1.item_id\n",
    "        ,t1.main_category\n",
    "        ,t1.level2_global_kpi_category\n",
    "        ,t1.batch_time --\n",
    "        ,MAX(case when date(t1.fs_st) = date(t2.grass_date) then t1.item_promotion_price       else 0  end)    promo_price_dia_pinado\n",
    "        ,SUM(case when date(t1.fs_st) = date(t2.grass_date) then t1.gross_orders               else 0  end)    orders_dia_pinado\n",
    "        ,SUM(case when date(t1.fs_st) = date(t2.grass_date) then t1.gmv                        else 0  end)    gmv_dia_pinado\n",
    "        ,MAX(case when date(t1.fs_st) != date(t2.grass_date) then t1.item_promotion_price  else 0  end)        promo_price_max_acumulado\n",
    "        ,SUM(case when date(t1.fs_st) != date(t2.grass_date) then t1.gross_orders          else 0  end)  / 30  ADO_acumulado\n",
    "        ,SUM(case when date(t1.fs_st) != date(t2.grass_date) then t1.gmv                   else 0  end) / 30   adgmv_acumulado\n",
    "     \n",
    "    FROM\n",
    "        staging_brbi_bdcluster.flash_sales_dataset t1\n",
    "\n",
    "    inner join sheets_pinado_table t2 \n",
    "        on  cast(t1.item_id as varchar ) = t2.item_id \n",
    "        and date(t1.fs_st) between date(comparative_grass_date) and date(grass_date)\n",
    "        and cast(t1.item_id as varchar) || '-' || cast(t1.batch_time as varchar)  = key \n",
    "    WHERE \n",
    "        cluster_item = 'Fashion'\n",
    "    group by \n",
    "        1, 2, 3, 4, 5, 6\n",
    "'''"
   ]
  },
  {
   "cell_type": "code",
   "execution_count": null,
   "metadata": {},
   "outputs": [],
   "source": [
    "\n",
    "string_final=\"\"\n",
    "for lin,_df_ in df.iterrows():\n",
    "    data_formatada = datetime.strptime(_df_.dia, \"%d.%m\").replace(year=datetime.now().year).strftime(\"%Y-%m-%d\")\n",
    "    data_convertida = datetime.strptime(data_formatada, \"%Y-%m-%d\")\n",
    "\n",
    "    data_30_dias_atras = data_convertida - timedelta(days=30)\n",
    "    data_30_dias_atras_formatada = data_30_dias_atras.strftime(\"%Y-%m-%d\")\n",
    "\n",
    "    lista = (str(_df_.item_id),\n",
    "     str(int(_df_.horário)),\n",
    "     data_formatada,\n",
    "     data_30_dias_atras_formatada,\n",
    "     f'{_df_.item_id}-{int(_df_.horário)}')\n",
    "    \n",
    "    if lin==df.shape[0]-1:\n",
    "        string_final=f\"{string_final}\\n{lista}\"\n",
    "    else:\n",
    "        string_final=f\"{string_final}\\n{lista},\"\n",
    "with open(\"arquivo.txt\", \"w\") as arquivo:\n",
    "    # Escreva a string no arquivo\n",
    "    arquivo.write(query.format(string_final))\n"
   ]
  },
  {
   "cell_type": "code",
   "execution_count": null,
   "metadata": {},
   "outputs": [],
   "source": [
    "from pyhive import presto\n",
    "from time import sleep\n",
    "import pandas as pd\n",
    "import warnings\n",
    "warnings.filterwarnings(\"ignore\")\n",
    "\n",
    "settings=get_settings()\n",
    "\n",
    "# Ignora warnings, caso tenha algum erro irrastreavel, descomentar e rodar novamente\n",
    "\n",
    "# Sempre imprimir todas as linhas possíveis (pode travar impressões longas)\n",
    "pd.set_option('display.max_rows', None)\n",
    "\n",
    "# Conexão - Pegar usuário no DataHub - https://datasuite.shopee.io/datahub\n",
    "conn =  presto.Connection(host=settings.PRESTO_HOST, \n",
    "                        port=settings.PRESTO_PORT, \n",
    "                        username= settings.PRESTO_USERNAME, \n",
    "                        password= settings.PRESTO_PASSWORD,\n",
    "                        protocol='https',\n",
    "                        source=f'(25)-(brbi-adhoc)-({settings.PRESTO_USERNAME})-(jdbc)-({settings.PRESTO_USERNAME})-(SG)'\n",
    "                        )"
   ]
  },
  {
   "cell_type": "code",
   "execution_count": null,
   "metadata": {},
   "outputs": [],
   "source": [
    "df_extract = pd.read_sql(query.format(string_final) ,conn)"
   ]
  },
  {
   "cell_type": "code",
   "execution_count": null,
   "metadata": {},
   "outputs": [],
   "source": [
    "df_extract.to_csv(\"base_retorno_itens_pinados.csv\",index=False,encoding=\"utf-8-sig\")"
   ]
  },
  {
   "cell_type": "code",
   "execution_count": null,
   "metadata": {},
   "outputs": [],
   "source": []
  }
 ],
 "metadata": {
  "kernelspec": {
   "display_name": "Python 3",
   "language": "python",
   "name": "python3"
  },
  "language_info": {
   "codemirror_mode": {
    "name": "ipython",
    "version": 3
   },
   "file_extension": ".py",
   "mimetype": "text/x-python",
   "name": "python",
   "nbconvert_exporter": "python",
   "pygments_lexer": "ipython3",
   "version": "3.10.11"
  },
  "orig_nbformat": 4
 },
 "nbformat": 4,
 "nbformat_minor": 2
}
